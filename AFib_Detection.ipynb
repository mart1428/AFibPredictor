{
  "nbformat": 4,
  "nbformat_minor": 0,
  "metadata": {
    "colab": {
      "provenance": [],
      "authorship_tag": "ABX9TyMIN2GPN0csav4qm5RXY+VG",
      "include_colab_link": true
    },
    "kernelspec": {
      "name": "python3",
      "display_name": "Python 3"
    },
    "language_info": {
      "name": "python"
    }
  },
  "cells": [
    {
      "cell_type": "markdown",
      "metadata": {
        "id": "view-in-github",
        "colab_type": "text"
      },
      "source": [
        "<a href=\"https://colab.research.google.com/github/mart1428/AFibPredictor/blob/main/AFib_Detection.ipynb\" target=\"_parent\"><img src=\"https://colab.research.google.com/assets/colab-badge.svg\" alt=\"Open In Colab\"/></a>"
      ]
    },
    {
      "cell_type": "markdown",
      "source": [
        "# **Atrial Fibrillation Detector**\n",
        "---"
      ],
      "metadata": {
        "id": "QPsFUQd5nIIq"
      }
    },
    {
      "cell_type": "markdown",
      "source": [
        "The purpose of this project is to predict if a person has a high chance in getting Atrial Fibrillation based on bloodworks. This is due to Atrial Fibrillation being a hard to detect and is usually detected when doing checkups."
      ],
      "metadata": {
        "id": "-AITpIPAuyRX"
      }
    },
    {
      "cell_type": "markdown",
      "source": [
        "###**From Kaggle:**\n",
        "Content\n",
        "Using Structured Query Language queries (PostgreSQL, version 9.6), demographic characteristics, vital signs, and laboratory values data were extracted from the following tables in the MIMIC III dataset: ADMISSIONS, PATIENTS, ICUSTAYS, D_ICD DIAGNOSIS, DIAGNOSIS_ICD, LABEVENTS, D_LABIEVENTS, CHARTEVENTS, D_ITEMS, NOTEEVENTS, and OUTPUTEVENTS. Based on previous studies 7-9 13-15, clinical relevance, and general availability at the time of presentation, we extracted the following data: demographic characteristics (age at the time of hospital admission, sex, ethnicity, weight, and height); vital signs (heart rate, (HR), systolic blood pressure [SBP], diastolic blood pressure [DBP], mean blood pressure, respiratory rate, body temperature, saturation pulse oxygen [SPO2], urine output [first 24 h]); comorbidities (hypertension, atrial fibrillation, ischemic heart disease, diabetes mellitus, depression, hypoferric anemia, hyperlipidemia, chronic kidney disease (CKD), and chronic obstructive pulmonary disease [COPD]); and laboratory variables (hematocrit, red blood cells, mean corpuscular hemoglobin [MCH], mean corpuscular hemoglobin concentration [MCHC], mean corpuscular volume [MCV], red blood cell distribution width [RDW], platelet count, white blood cells, neutrophils, basophils, lymphocytes, prothrombin time [PT], international normalized ratio [INR], NT-proBNP, creatine kinase, creatinine, blood urea nitrogen [BUN] glucose, potassium, sodium, calcium, chloride, magnesium, the anion gap, bicarbonate, lactate, hydrogen ion concentration [pH], partial pressure of CO2 in arterial blood, and LVEF), using Structured Query Language (SQL) with PostgreSQL (version 9.6). Demographic characteristics and vital signs extracted were recorded during the ﬁrst 24 hours of each admission and laboratory variables were measured during the entire ICU stay. Comorbidities were identified using ICD-9 codes. For variable data with multiple measurements, the calculated mean value was included for analysis."
      ],
      "metadata": {
        "id": "-baQ-bAGztzN"
      }
    },
    {
      "cell_type": "code",
      "source": [
        "import pandas as pd\n",
        "import numpy as np\n",
        "import sklearn\n",
        "import matplotlib.pyplot as plt\n",
        "import seaborn as sns\n",
        "\n",
        "from sklearn.impute import SimpleImputer"
      ],
      "metadata": {
        "id": "LHkVIh1yvfzX"
      },
      "execution_count": null,
      "outputs": []
    },
    {
      "cell_type": "code",
      "execution_count": null,
      "metadata": {
        "colab": {
          "base_uri": "https://localhost:8080/"
        },
        "id": "KGJfsvuXuO86",
        "outputId": "738e4655-ed5c-4e05-cc97-938bace574a7"
      },
      "outputs": [
        {
          "output_type": "stream",
          "name": "stdout",
          "text": [
            "   group      ID  outcome  age  gendera        BMI  hypertensive  \\\n",
            "0      1  125047      0.0   72        1  37.588179             0   \n",
            "1      1  139812      0.0   75        2        NaN             0   \n",
            "2      1  109787      0.0   83        2  26.572634             0   \n",
            "3      1  130587      0.0   43        2  83.264629             0   \n",
            "4      1  138290      0.0   75        2  31.824842             1   \n",
            "\n",
            "   atrialfibrillation  CHD with no MI  diabetes  ...  Blood sodium  \\\n",
            "0                   0               0         1  ...    138.750000   \n",
            "1                   0               0         0  ...    138.888889   \n",
            "2                   0               0         0  ...    140.714286   \n",
            "3                   0               0         0  ...    138.500000   \n",
            "4                   0               0         0  ...    136.666667   \n",
            "\n",
            "   Blood calcium    Chloride  Anion gap  Magnesium ion     PH  Bicarbonate  \\\n",
            "0       7.463636  109.166667  13.166667       2.618182  7.230    21.166667   \n",
            "1       8.162500   98.444444  11.444444       1.887500  7.225    33.444444   \n",
            "2       8.266667  105.857143  10.000000       2.157143  7.268    30.571429   \n",
            "3       9.476923   92.071429  12.357143       1.942857  7.370    38.571429   \n",
            "4       8.733333  104.500000  15.166667       1.650000  7.250    22.000000   \n",
            "\n",
            "   Lactic acid  PCO2  EF  \n",
            "0          0.5  40.0  55  \n",
            "1          0.5  78.0  55  \n",
            "2          0.5  71.5  35  \n",
            "3          0.6  75.0  55  \n",
            "4          0.6  50.0  55  \n",
            "\n",
            "[5 rows x 51 columns]\n"
          ]
        }
      ],
      "source": [
        "data = pd.read_csv(\"https://docs.google.com/uc?export=download&id=1v7z6Lk0T4r7p58a-0PSUsjkcyecwe9X9\")\n",
        "print(data.head())"
      ]
    },
    {
      "cell_type": "code",
      "source": [
        "data.columns"
      ],
      "metadata": {
        "colab": {
          "base_uri": "https://localhost:8080/"
        },
        "id": "7wE8gHtcw2lY",
        "outputId": "f88d3187-69e9-4dad-c5bb-c5b654cb1aac"
      },
      "execution_count": null,
      "outputs": [
        {
          "output_type": "execute_result",
          "data": {
            "text/plain": [
              "Index(['group', 'ID', 'outcome', 'age', 'gendera', 'BMI', 'hypertensive',\n",
              "       'atrialfibrillation', 'CHD with no MI', 'diabetes', 'deficiencyanemias',\n",
              "       'depression', 'Hyperlipemia', 'Renal failure', 'COPD', 'heart rate',\n",
              "       'Systolic blood pressure', 'Diastolic blood pressure',\n",
              "       'Respiratory rate', 'temperature', 'SP O2', 'Urine output',\n",
              "       'hematocrit', 'RBC', 'MCH', 'MCHC', 'MCV', 'RDW', 'Leucocyte',\n",
              "       'Platelets', 'Neutrophils', 'Basophils', 'Lymphocyte', 'PT', 'INR',\n",
              "       'NT-proBNP', 'Creatine kinase', 'Creatinine', 'Urea nitrogen',\n",
              "       'glucose', 'Blood potassium', 'Blood sodium', 'Blood calcium',\n",
              "       'Chloride', 'Anion gap', 'Magnesium ion', 'PH', 'Bicarbonate',\n",
              "       'Lactic acid', 'PCO2', 'EF'],\n",
              "      dtype='object')"
            ]
          },
          "metadata": {},
          "execution_count": 3
        }
      ]
    },
    {
      "cell_type": "code",
      "source": [
        "data.dtypes"
      ],
      "metadata": {
        "colab": {
          "base_uri": "https://localhost:8080/"
        },
        "id": "M5IMjHwrw7Z9",
        "outputId": "06f36f0b-7795-419a-8466-7e64719c4d81"
      },
      "execution_count": null,
      "outputs": [
        {
          "output_type": "execute_result",
          "data": {
            "text/plain": [
              "group                         int64\n",
              "ID                            int64\n",
              "outcome                     float64\n",
              "age                           int64\n",
              "gendera                       int64\n",
              "BMI                         float64\n",
              "hypertensive                  int64\n",
              "atrialfibrillation            int64\n",
              "CHD with no MI                int64\n",
              "diabetes                      int64\n",
              "deficiencyanemias             int64\n",
              "depression                    int64\n",
              "Hyperlipemia                  int64\n",
              "Renal failure                 int64\n",
              "COPD                          int64\n",
              "heart rate                  float64\n",
              "Systolic blood pressure     float64\n",
              "Diastolic blood pressure    float64\n",
              "Respiratory rate            float64\n",
              "temperature                 float64\n",
              "SP O2                       float64\n",
              "Urine output                float64\n",
              "hematocrit                  float64\n",
              "RBC                         float64\n",
              "MCH                         float64\n",
              "MCHC                        float64\n",
              "MCV                         float64\n",
              "RDW                         float64\n",
              "Leucocyte                   float64\n",
              "Platelets                   float64\n",
              "Neutrophils                 float64\n",
              "Basophils                   float64\n",
              "Lymphocyte                  float64\n",
              "PT                          float64\n",
              "INR                         float64\n",
              "NT-proBNP                   float64\n",
              "Creatine kinase             float64\n",
              "Creatinine                  float64\n",
              "Urea nitrogen               float64\n",
              "glucose                     float64\n",
              "Blood potassium             float64\n",
              "Blood sodium                float64\n",
              "Blood calcium               float64\n",
              "Chloride                    float64\n",
              "Anion gap                   float64\n",
              "Magnesium ion               float64\n",
              "PH                          float64\n",
              "Bicarbonate                 float64\n",
              "Lactic acid                 float64\n",
              "PCO2                        float64\n",
              "EF                            int64\n",
              "dtype: object"
            ]
          },
          "metadata": {},
          "execution_count": 4
        }
      ]
    },
    {
      "cell_type": "code",
      "source": [
        "data.isnull().sum()"
      ],
      "metadata": {
        "colab": {
          "base_uri": "https://localhost:8080/"
        },
        "id": "ZhJstWHQxARA",
        "outputId": "231864bc-c2c6-4864-d93e-75bf5c41f4e3"
      },
      "execution_count": null,
      "outputs": [
        {
          "output_type": "execute_result",
          "data": {
            "text/plain": [
              "group                         0\n",
              "ID                            0\n",
              "outcome                       1\n",
              "age                           0\n",
              "gendera                       0\n",
              "BMI                         215\n",
              "hypertensive                  0\n",
              "atrialfibrillation            0\n",
              "CHD with no MI                0\n",
              "diabetes                      0\n",
              "deficiencyanemias             0\n",
              "depression                    0\n",
              "Hyperlipemia                  0\n",
              "Renal failure                 0\n",
              "COPD                          0\n",
              "heart rate                   13\n",
              "Systolic blood pressure      16\n",
              "Diastolic blood pressure     16\n",
              "Respiratory rate             13\n",
              "temperature                  19\n",
              "SP O2                        13\n",
              "Urine output                 36\n",
              "hematocrit                    0\n",
              "RBC                           0\n",
              "MCH                           0\n",
              "MCHC                          0\n",
              "MCV                           0\n",
              "RDW                           0\n",
              "Leucocyte                     0\n",
              "Platelets                     0\n",
              "Neutrophils                 144\n",
              "Basophils                   259\n",
              "Lymphocyte                  145\n",
              "PT                           20\n",
              "INR                          20\n",
              "NT-proBNP                     0\n",
              "Creatine kinase             165\n",
              "Creatinine                    0\n",
              "Urea nitrogen                 0\n",
              "glucose                      18\n",
              "Blood potassium               0\n",
              "Blood sodium                  0\n",
              "Blood calcium                 1\n",
              "Chloride                      0\n",
              "Anion gap                     0\n",
              "Magnesium ion                 0\n",
              "PH                          292\n",
              "Bicarbonate                   0\n",
              "Lactic acid                 229\n",
              "PCO2                        294\n",
              "EF                            0\n",
              "dtype: int64"
            ]
          },
          "metadata": {},
          "execution_count": 5
        }
      ]
    },
    {
      "cell_type": "code",
      "source": [
        "imputer = SimpleImputer(strategy = 'most_frequent')\n",
        "cols = data.columns\n",
        "data[cols] = imputer.fit_transform(data[cols])\n",
        "data.isnull().sum()"
      ],
      "metadata": {
        "colab": {
          "base_uri": "https://localhost:8080/"
        },
        "id": "IGBcc3WtxRPb",
        "outputId": "97f78787-2bb8-4f15-f13d-93437075bcf3"
      },
      "execution_count": null,
      "outputs": [
        {
          "output_type": "execute_result",
          "data": {
            "text/plain": [
              "group                       0\n",
              "ID                          0\n",
              "outcome                     0\n",
              "age                         0\n",
              "gendera                     0\n",
              "BMI                         0\n",
              "hypertensive                0\n",
              "atrialfibrillation          0\n",
              "CHD with no MI              0\n",
              "diabetes                    0\n",
              "deficiencyanemias           0\n",
              "depression                  0\n",
              "Hyperlipemia                0\n",
              "Renal failure               0\n",
              "COPD                        0\n",
              "heart rate                  0\n",
              "Systolic blood pressure     0\n",
              "Diastolic blood pressure    0\n",
              "Respiratory rate            0\n",
              "temperature                 0\n",
              "SP O2                       0\n",
              "Urine output                0\n",
              "hematocrit                  0\n",
              "RBC                         0\n",
              "MCH                         0\n",
              "MCHC                        0\n",
              "MCV                         0\n",
              "RDW                         0\n",
              "Leucocyte                   0\n",
              "Platelets                   0\n",
              "Neutrophils                 0\n",
              "Basophils                   0\n",
              "Lymphocyte                  0\n",
              "PT                          0\n",
              "INR                         0\n",
              "NT-proBNP                   0\n",
              "Creatine kinase             0\n",
              "Creatinine                  0\n",
              "Urea nitrogen               0\n",
              "glucose                     0\n",
              "Blood potassium             0\n",
              "Blood sodium                0\n",
              "Blood calcium               0\n",
              "Chloride                    0\n",
              "Anion gap                   0\n",
              "Magnesium ion               0\n",
              "PH                          0\n",
              "Bicarbonate                 0\n",
              "Lactic acid                 0\n",
              "PCO2                        0\n",
              "EF                          0\n",
              "dtype: int64"
            ]
          },
          "metadata": {},
          "execution_count": 6
        }
      ]
    },
    {
      "cell_type": "code",
      "source": [
        "drop_data_cols = ['group', 'ID', 'outcome',  'gendera',  'hypertensive', 'Urine output', 'temperature',\n",
        "        'CHD with no MI', 'diabetes', 'deficiencyanemias',\n",
        "       'depression', 'Hyperlipemia', 'Renal failure', 'COPD']\n",
        "processed_data = data.drop(columns = drop_data_cols)"
      ],
      "metadata": {
        "id": "RqD5AaD4yEOU"
      },
      "execution_count": null,
      "outputs": []
    },
    {
      "cell_type": "code",
      "source": [
        "print(processed_data.columns)\n",
        "corrs = processed_data.corr()\n",
        "sns.heatmap(corrs)"
      ],
      "metadata": {
        "colab": {
          "base_uri": "https://localhost:8080/",
          "height": 756
        },
        "id": "zINoze6CzQ1G",
        "outputId": "4a9be86f-8ba8-4987-dc90-cdbebba90537"
      },
      "execution_count": null,
      "outputs": [
        {
          "output_type": "stream",
          "name": "stdout",
          "text": [
            "Index(['age', 'BMI', 'atrialfibrillation', 'heart rate',\n",
            "       'Systolic blood pressure', 'Diastolic blood pressure',\n",
            "       'Respiratory rate', 'SP O2', 'hematocrit', 'RBC', 'MCH', 'MCHC', 'MCV',\n",
            "       'RDW', 'Leucocyte', 'Platelets', 'Neutrophils', 'Basophils',\n",
            "       'Lymphocyte', 'PT', 'INR', 'NT-proBNP', 'Creatine kinase', 'Creatinine',\n",
            "       'Urea nitrogen', 'glucose', 'Blood potassium', 'Blood sodium',\n",
            "       'Blood calcium', 'Chloride', 'Anion gap', 'Magnesium ion', 'PH',\n",
            "       'Bicarbonate', 'Lactic acid', 'PCO2', 'EF'],\n",
            "      dtype='object')\n"
          ]
        },
        {
          "output_type": "execute_result",
          "data": {
            "text/plain": [
              "<Axes: >"
            ]
          },
          "metadata": {},
          "execution_count": 8
        },
        {
          "output_type": "display_data",
          "data": {
            "text/plain": [
              "<Figure size 640x480 with 2 Axes>"
            ],
            "image/png": "[encoded data removed]"
          },
          "metadata": {}
        }
      ]
    },
    {
      "cell_type": "code",
      "source": [
        "corrs[['atrialfibrillation']].abs().sort_values('atrialfibrillation', ascending = False)"
      ],
      "metadata": {
        "colab": {
          "base_uri": "https://localhost:8080/",
          "height": 1000
        },
        "id": "ZOMuhCniYKUR",
        "outputId": "9eaccafc-8b1b-44be-c30c-532fb4ab5dae"
      },
      "execution_count": null,
      "outputs": [
        {
          "output_type": "execute_result",
          "data": {
            "text/plain": [
              "                          atrialfibrillation\n",
              "atrialfibrillation                  1.000000\n",
              "PT                                  0.316861\n",
              "INR                                 0.310939\n",
              "age                                 0.291003\n",
              "Lymphocyte                          0.118046\n",
              "Systolic blood pressure             0.116720\n",
              "Neutrophils                         0.114078\n",
              "BMI                                 0.111744\n",
              "Urea nitrogen                       0.108165\n",
              "Leucocyte                           0.098511\n",
              "PCO2                                0.088978\n",
              "NT-proBNP                           0.084345\n",
              "Basophils                           0.081556\n",
              "MCHC                                0.080776\n",
              "RDW                                 0.073495\n",
              "Bicarbonate                         0.071813\n",
              "Diastolic blood pressure            0.071232\n",
              "Magnesium ion                       0.067448\n",
              "SP O2                               0.057181\n",
              "Lactic acid                         0.053519\n",
              "Anion gap                           0.049712\n",
              "PH                                  0.041221\n",
              "Platelets                           0.029558\n",
              "MCH                                 0.028576\n",
              "glucose                             0.027543\n",
              "Respiratory rate                    0.027101\n",
              "Blood sodium                        0.026506\n",
              "Chloride                            0.023312\n",
              "Creatinine                          0.022110\n",
              "hematocrit                          0.022021\n",
              "Blood calcium                       0.019466\n",
              "Blood potassium                     0.017644\n",
              "RBC                                 0.016521\n",
              "MCV                                 0.011260\n",
              "EF                                  0.011168\n",
              "Creatine kinase                     0.006478\n",
              "heart rate                          0.002305"
            ],
            "text/html": [
              "\n",
              "  <div id=\"df-545964c5-fcfc-4699-8847-bf9450e1c25a\" class=\"colab-df-container\">\n",
              "    <div>\n",
              "<style scoped>\n",
              "    .dataframe tbody tr th:only-of-type {\n",
              "        vertical-align: middle;\n",
              "    }\n",
              "\n",
              "    .dataframe tbody tr th {\n",
              "        vertical-align: top;\n",
              "    }\n",
              "\n",
              "    .dataframe thead th {\n",
              "        text-align: right;\n",
              "    }\n",
              "</style>\n",
              "<table border=\"1\" class=\"dataframe\">\n",
              "  <thead>\n",
              "    <tr style=\"text-align: right;\">\n",
              "      <th></th>\n",
              "      <th>atrialfibrillation</th>\n",
              "    </tr>\n",
              "  </thead>\n",
              "  <tbody>\n",
              "    <tr>\n",
              "      <th>atrialfibrillation</th>\n",
              "      <td>1.000000</td>\n",
              "    </tr>\n",
              "    <tr>\n",
              "      <th>PT</th>\n",
              "      <td>0.316861</td>\n",
              "    </tr>\n",
              "    <tr>\n",
              "      <th>INR</th>\n",
              "      <td>0.310939</td>\n",
              "    </tr>\n",
              "    <tr>\n",
              "      <th>age</th>\n",
              "      <td>0.291003</td>\n",
              "    </tr>\n",
              "    <tr>\n",
              "      <th>Lymphocyte</th>\n",
              "      <td>0.118046</td>\n",
              "    </tr>\n",
              "    <tr>\n",
              "      <th>Systolic blood pressure</th>\n",
              "      <td>0.116720</td>\n",
              "    </tr>\n",
              "    <tr>\n",
              "      <th>Neutrophils</th>\n",
              "      <td>0.114078</td>\n",
              "    </tr>\n",
              "    <tr>\n",
              "      <th>BMI</th>\n",
              "      <td>0.111744</td>\n",
              "    </tr>\n",
              "    <tr>\n",
              "      <th>Urea nitrogen</th>\n",
              "      <td>0.108165</td>\n",
              "    </tr>\n",
              "    <tr>\n",
              "      <th>Leucocyte</th>\n",
              "      <td>0.098511</td>\n",
              "    </tr>\n",
              "    <tr>\n",
              "      <th>PCO2</th>\n",
              "      <td>0.088978</td>\n",
              "    </tr>\n",
              "    <tr>\n",
              "      <th>NT-proBNP</th>\n",
              "      <td>0.084345</td>\n",
              "    </tr>\n",
              "    <tr>\n",
              "      <th>Basophils</th>\n",
              "      <td>0.081556</td>\n",
              "    </tr>\n",
              "    <tr>\n",
              "      <th>MCHC</th>\n",
              "      <td>0.080776</td>\n",
              "    </tr>\n",
              "    <tr>\n",
              "      <th>RDW</th>\n",
              "      <td>0.073495</td>\n",
              "    </tr>\n",
              "    <tr>\n",
              "      <th>Bicarbonate</th>\n",
              "      <td>0.071813</td>\n",
              "    </tr>\n",
              "    <tr>\n",
              "      <th>Diastolic blood pressure</th>\n",
              "      <td>0.071232</td>\n",
              "    </tr>\n",
              "    <tr>\n",
              "      <th>Magnesium ion</th>\n",
              "      <td>0.067448</td>\n",
              "    </tr>\n",
              "    <tr>\n",
              "      <th>SP O2</th>\n",
              "      <td>0.057181</td>\n",
              "    </tr>\n",
              "    <tr>\n",
              "      <th>Lactic acid</th>\n",
              "      <td>0.053519</td>\n",
              "    </tr>\n",
              "    <tr>\n",
              "      <th>Anion gap</th>\n",
              "      <td>0.049712</td>\n",
              "    </tr>\n",
              "    <tr>\n",
              "      <th>PH</th>\n",
              "      <td>0.041221</td>\n",
              "    </tr>\n",
              "    <tr>\n",
              "      <th>Platelets</th>\n",
              "      <td>0.029558</td>\n",
              "    </tr>\n",
              "    <tr>\n",
              "      <th>MCH</th>\n",
              "      <td>0.028576</td>\n",
              "    </tr>\n",
              "    <tr>\n",
              "      <th>glucose</th>\n",
              "      <td>0.027543</td>\n",
              "    </tr>\n",
              "    <tr>\n",
              "      <th>Respiratory rate</th>\n",
              "      <td>0.027101</td>\n",
              "    </tr>\n",
              "    <tr>\n",
              "      <th>Blood sodium</th>\n",
              "      <td>0.026506</td>\n",
              "    </tr>\n",
              "    <tr>\n",
              "      <th>Chloride</th>\n",
              "      <td>0.023312</td>\n",
              "    </tr>\n",
              "    <tr>\n",
              "      <th>Creatinine</th>\n",
              "      <td>0.022110</td>\n",
              "    </tr>\n",
              "    <tr>\n",
              "      <th>hematocrit</th>\n",
              "      <td>0.022021</td>\n",
              "    </tr>\n",
              "    <tr>\n",
              "      <th>Blood calcium</th>\n",
              "      <td>0.019466</td>\n",
              "    </tr>\n",
              "    <tr>\n",
              "      <th>Blood potassium</th>\n",
              "      <td>0.017644</td>\n",
              "    </tr>\n",
              "    <tr>\n",
              "      <th>RBC</th>\n",
              "      <td>0.016521</td>\n",
              "    </tr>\n",
              "    <tr>\n",
              "      <th>MCV</th>\n",
              "      <td>0.011260</td>\n",
              "    </tr>\n",
              "    <tr>\n",
              "      <th>EF</th>\n",
              "      <td>0.011168</td>\n",
              "    </tr>\n",
              "    <tr>\n",
              "      <th>Creatine kinase</th>\n",
              "      <td>0.006478</td>\n",
              "    </tr>\n",
              "    <tr>\n",
              "      <th>heart rate</th>\n",
              "      <td>0.002305</td>\n",
              "    </tr>\n",
              "  </tbody>\n",
              "</table>\n",
              "</div>\n",
              "    <div class=\"colab-df-buttons\">\n",
              "\n",
              "  <div class=\"colab-df-container\">\n",
              "    <button class=\"colab-df-convert\" onclick=\"convertToInteractive('df-545964c5-fcfc-4699-8847-bf9450e1c25a')\"\n",
              "            title=\"Convert this dataframe to an interactive table.\"\n",
              "            style=\"display:none;\">\n",
              "\n",
              "  <svg xmlns=\"http://www.w3.org/2000/svg\" height=\"24px\" viewBox=\"0 -960 960 960\">\n",
              "    <path d=\"M120-120v-720h720v720H120Zm60-500h600v-160H180v160Zm220 220h160v-160H400v160Zm0 220h160v-160H400v160ZM180-400h160v-160H180v160Zm440 0h160v-160H620v160ZM180-180h160v-160H180v160Zm440 0h160v-160H620v160Z\"/>\n",
              "  </svg>\n",
              "    </button>\n",
              "\n",
              "  <style>\n",
              "    .colab-df-container {\n",
              "      display:flex;\n",
              "      gap: 12px;\n",
              "    }\n",
              "\n",
              "    .colab-df-convert {\n",
              "      background-color: #E8F0FE;\n",
              "      border: none;\n",
              "      border-radius: 50%;\n",
              "      cursor: pointer;\n",
              "      display: none;\n",
              "      fill: #1967D2;\n",
              "      height: 32px;\n",
              "      padding: 0 0 0 0;\n",
              "      width: 32px;\n",
              "    }\n",
              "\n",
              "    .colab-df-convert:hover {\n",
              "      background-color: #E2EBFA;\n",
              "      box-shadow: 0px 1px 2px rgba(60, 64, 67, 0.3), 0px 1px 3px 1px rgba(60, 64, 67, 0.15);\n",
              "      fill: #174EA6;\n",
              "    }\n",
              "\n",
              "    .colab-df-buttons div {\n",
              "      margin-bottom: 4px;\n",
              "    }\n",
              "\n",
              "    [theme=dark] .colab-df-convert {\n",
              "      background-color: #3B4455;\n",
              "      fill: #D2E3FC;\n",
              "    }\n",
              "\n",
              "    [theme=dark] .colab-df-convert:hover {\n",
              "      background-color: #434B5C;\n",
              "      box-shadow: 0px 1px 3px 1px rgba(0, 0, 0, 0.15);\n",
              "      filter: drop-shadow(0px 1px 2px rgba(0, 0, 0, 0.3));\n",
              "      fill: #FFFFFF;\n",
              "    }\n",
              "  </style>\n",
              "\n",
              "    <script>\n",
              "      const buttonEl =\n",
              "        document.querySelector('#df-545964c5-fcfc-4699-8847-bf9450e1c25a button.colab-df-convert');\n",
              "      buttonEl.style.display =\n",
              "        google.colab.kernel.accessAllowed ? 'block' : 'none';\n",
              "\n",
              "      async function convertToInteractive(key) {\n",
              "        const element = document.querySelector('#df-545964c5-fcfc-4699-8847-bf9450e1c25a');\n",
              "        const dataTable =\n",
              "          await google.colab.kernel.invokeFunction('convertToInteractive',\n",
              "                                                    [key], {});\n",
              "        if (!dataTable) return;\n",
              "\n",
              "        const docLinkHtml = 'Like what you see? Visit the ' +\n",
              "          '<a target=\"_blank\" href=https://colab.research.google.com/notebooks/data_table.ipynb>data table notebook</a>'\n",
              "          + ' to learn more about interactive tables.';\n",
              "        element.innerHTML = '';\n",
              "        dataTable['output_type'] = 'display_data';\n",
              "        await google.colab.output.renderOutput(dataTable, element);\n",
              "        const docLink = document.createElement('div');\n",
              "        docLink.innerHTML = docLinkHtml;\n",
              "        element.appendChild(docLink);\n",
              "      }\n",
              "    </script>\n",
              "  </div>\n",
              "\n",
              "\n",
              "<div id=\"df-ae7ded7f-0193-4031-8182-50722c4b9799\">\n",
              "  <button class=\"colab-df-quickchart\" onclick=\"quickchart('df-ae7ded7f-0193-4031-8182-50722c4b9799')\"\n",
              "            title=\"Suggest charts.\"\n",
              "            style=\"display:none;\">\n",
              "\n",
              "<svg xmlns=\"http://www.w3.org/2000/svg\" height=\"24px\"viewBox=\"0 0 24 24\"\n",
              "     width=\"24px\">\n",
              "    <g>\n",
              "        <path d=\"M19 3H5c-1.1 0-2 .9-2 2v14c0 1.1.9 2 2 2h14c1.1 0 2-.9 2-2V5c0-1.1-.9-2-2-2zM9 17H7v-7h2v7zm4 0h-2V7h2v10zm4 0h-2v-4h2v4z\"/>\n",
              "    </g>\n",
              "</svg>\n",
              "  </button>\n",
              "\n",
              "<style>\n",
              "  .colab-df-quickchart {\n",
              "      --bg-color: #E8F0FE;\n",
              "      --fill-color: #1967D2;\n",
              "      --hover-bg-color: #E2EBFA;\n",
              "      --hover-fill-color: #174EA6;\n",
              "      --disabled-fill-color: #AAA;\n",
              "      --disabled-bg-color: #DDD;\n",
              "  }\n",
              "\n",
              "  [theme=dark] .colab-df-quickchart {\n",
              "      --bg-color: #3B4455;\n",
              "      --fill-color: #D2E3FC;\n",
              "      --hover-bg-color: #434B5C;\n",
              "      --hover-fill-color: #FFFFFF;\n",
              "      --disabled-bg-color: #3B4455;\n",
              "      --disabled-fill-color: #666;\n",
              "  }\n",
              "\n",
              "  .colab-df-quickchart {\n",
              "    background-color: var(--bg-color);\n",
              "    border: none;\n",
              "    border-radius: 50%;\n",
              "    cursor: pointer;\n",
              "    display: none;\n",
              "    fill: var(--fill-color);\n",
              "    height: 32px;\n",
              "    padding: 0;\n",
              "    width: 32px;\n",
              "  }\n",
              "\n",
              "  .colab-df-quickchart:hover {\n",
              "    background-color: var(--hover-bg-color);\n",
              "    box-shadow: 0 1px 2px rgba(60, 64, 67, 0.3), 0 1px 3px 1px rgba(60, 64, 67, 0.15);\n",
              "    fill: var(--button-hover-fill-color);\n",
              "  }\n",
              "\n",
              "  .colab-df-quickchart-complete:disabled,\n",
              "  .colab-df-quickchart-complete:disabled:hover {\n",
              "    background-color: var(--disabled-bg-color);\n",
              "    fill: var(--disabled-fill-color);\n",
              "    box-shadow: none;\n",
              "  }\n",
              "\n",
              "  .colab-df-spinner {\n",
              "    border: 2px solid var(--fill-color);\n",
              "    border-color: transparent;\n",
              "    border-bottom-color: var(--fill-color);\n",
              "    animation:\n",
              "      spin 1s steps(1) infinite;\n",
              "  }\n",
              "\n",
              "  @keyframes spin {\n",
              "    0% {\n",
              "      border-color: transparent;\n",
              "      border-bottom-color: var(--fill-color);\n",
              "      border-left-color: var(--fill-color);\n",
              "    }\n",
              "    20% {\n",
              "      border-color: transparent;\n",
              "      border-left-color: var(--fill-color);\n",
              "      border-top-color: var(--fill-color);\n",
              "    }\n",
              "    30% {\n",
              "      border-color: transparent;\n",
              "      border-left-color: var(--fill-color);\n",
              "      border-top-color: var(--fill-color);\n",
              "      border-right-color: var(--fill-color);\n",
              "    }\n",
              "    40% {\n",
              "      border-color: transparent;\n",
              "      border-right-color: var(--fill-color);\n",
              "      border-top-color: var(--fill-color);\n",
              "    }\n",
              "    60% {\n",
              "      border-color: transparent;\n",
              "      border-right-color: var(--fill-color);\n",
              "    }\n",
              "    80% {\n",
              "      border-color: transparent;\n",
              "      border-right-color: var(--fill-color);\n",
              "      border-bottom-color: var(--fill-color);\n",
              "    }\n",
              "    90% {\n",
              "      border-color: transparent;\n",
              "      border-bottom-color: var(--fill-color);\n",
              "    }\n",
              "  }\n",
              "</style>\n",
              "\n",
              "  <script>\n",
              "    async function quickchart(key) {\n",
              "      const quickchartButtonEl =\n",
              "        document.querySelector('#' + key + ' button');\n",
              "      quickchartButtonEl.disabled = true;  // To prevent multiple clicks.\n",
              "      quickchartButtonEl.classList.add('colab-df-spinner');\n",
              "      try {\n",
              "        const charts = await google.colab.kernel.invokeFunction(\n",
              "            'suggestCharts', [key], {});\n",
              "      } catch (error) {\n",
              "        console.error('Error during call to suggestCharts:', error);\n",
              "      }\n",
              "      quickchartButtonEl.classList.remove('colab-df-spinner');\n",
              "      quickchartButtonEl.classList.add('colab-df-quickchart-complete');\n",
              "    }\n",
              "    (() => {\n",
              "      let quickchartButtonEl =\n",
              "        document.querySelector('#df-ae7ded7f-0193-4031-8182-50722c4b9799 button');\n",
              "      quickchartButtonEl.style.display =\n",
              "        google.colab.kernel.accessAllowed ? 'block' : 'none';\n",
              "    })();\n",
              "  </script>\n",
              "</div>\n",
              "    </div>\n",
              "  </div>\n"
            ]
          },
          "metadata": {},
          "execution_count": 9
        }
      ]
    },
    {
      "cell_type": "code",
      "source": [
        "sns.displot(data=data, x = 'age', hue = 'atrialfibrillation', kde = True)"
      ],
      "metadata": {
        "colab": {
          "base_uri": "https://localhost:8080/",
          "height": 523
        },
        "id": "8QDhui1MkiOj",
        "outputId": "3600daba-c913-4214-fcd4-58a929637045"
      },
      "execution_count": null,
      "outputs": [
        {
          "output_type": "execute_result",
          "data": {
            "text/plain": [
              "<seaborn.axisgrid.FacetGrid at 0x7b5a7f86f6a0>"
            ]
          },
          "metadata": {},
          "execution_count": 10
        },
        {
          "output_type": "display_data",
          "data": {
            "text/plain": [
              "<Figure size 617.736x500 with 1 Axes>"
            ],
            "image/png": "[encoded data removed]"
          },
          "metadata": {}
        }
      ]
    },
    {
      "cell_type": "code",
      "source": [
        "sns.displot(data=data, x = 'PT', hue = 'atrialfibrillation', kde = True)"
      ],
      "metadata": {
        "colab": {
          "base_uri": "https://localhost:8080/",
          "height": 524
        },
        "outputId": "9b3bfa03-1a07-40ee-f1e4-13f134fefc4b",
        "id": "2JCHjIlBmi1T"
      },
      "execution_count": null,
      "outputs": [
        {
          "output_type": "execute_result",
          "data": {
            "text/plain": [
              "<seaborn.axisgrid.FacetGrid at 0x7b5a7f8f8ee0>"
            ]
          },
          "metadata": {},
          "execution_count": 11
        },
        {
          "output_type": "display_data",
          "data": {
            "text/plain": [
              "<Figure size 617.736x500 with 1 Axes>"
            ],
            "image/png": "[encoded data removed]"
          },
          "metadata": {}
        }
      ]
    },
    {
      "cell_type": "code",
      "source": [
        "sns.displot(data=data, x = 'Systolic blood pressure', hue = 'atrialfibrillation', kde = True)"
      ],
      "metadata": {
        "colab": {
          "base_uri": "https://localhost:8080/",
          "height": 523
        },
        "outputId": "3cf7e578-4221-4b57-bb84-81c5728f48c0",
        "id": "F--7F5wpmsxT"
      },
      "execution_count": null,
      "outputs": [
        {
          "output_type": "execute_result",
          "data": {
            "text/plain": [
              "<seaborn.axisgrid.FacetGrid at 0x7b5a7f86eef0>"
            ]
          },
          "metadata": {},
          "execution_count": 12
        },
        {
          "output_type": "display_data",
          "data": {
            "text/plain": [
              "<Figure size 617.736x500 with 1 Axes>"
            ],
            "image/png": "[encoded data removed]"
          },
          "metadata": {}
        }
      ]
    },
    {
      "cell_type": "markdown",
      "source": [
        "---\n",
        "##**First Iteration**\n",
        "---"
      ],
      "metadata": {
        "id": "NAUkihcckejq"
      }
    },
    {
      "cell_type": "code",
      "source": [
        "X_train, X_test, y_train, y_test = sklearn.model_selection.train_test_split(processed_data.drop('atrialfibrillation', axis = 1), processed_data.atrialfibrillation, test_size = 0.2, random_state = 1000, stratify = processed_data.atrialfibrillation)\n",
        "X_train.shape, y_train.shape"
      ],
      "metadata": {
        "colab": {
          "base_uri": "https://localhost:8080/"
        },
        "id": "RVFFpsnCZN1s",
        "outputId": "1bd89756-a325-428a-a791-d8f882d835a4"
      },
      "execution_count": null,
      "outputs": [
        {
          "output_type": "execute_result",
          "data": {
            "text/plain": [
              "((941, 36), (941,))"
            ]
          },
          "metadata": {},
          "execution_count": 13
        }
      ]
    },
    {
      "cell_type": "code",
      "source": [
        "logreg = sklearn.linear_model.LogisticRegressionCV(max_iter = 5000).fit(X_train, y_train)\n",
        "print(f'Logistic Regression Training Score: {logreg.score(X_train, y_train)}')\n",
        "print(f'Logistic Regression Testing Score: {logreg.score(X_test, y_test)}')"
      ],
      "metadata": {
        "id": "XQxT12Blz63Q",
        "colab": {
          "base_uri": "https://localhost:8080/"
        },
        "outputId": "0ee23ac4-3620-4240-c7db-374a3ef4b491"
      },
      "execution_count": null,
      "outputs": [
        {
          "output_type": "stream",
          "name": "stdout",
          "text": [
            "Logistic Regression Training Score: 0.696068012752391\n",
            "Logistic Regression Testing Score: 0.7076271186440678\n"
          ]
        }
      ]
    },
    {
      "cell_type": "code",
      "source": [
        "betas = pd.Series(logreg.coef_[0], index = X_train.columns)\n",
        "betas = pd.concat([betas, pd.Series({'Intercept' : logreg.intercept_[0]})])\n",
        "betas.sort_values()"
      ],
      "metadata": {
        "colab": {
          "base_uri": "https://localhost:8080/"
        },
        "id": "Yd9QUWjCb3vw",
        "outputId": "0fa40189-6df5-4467-cbf4-38224f7b26c4"
      },
      "execution_count": null,
      "outputs": [
        {
          "output_type": "execute_result",
          "data": {
            "text/plain": [
              "Respiratory rate           -2.650822e-02\n",
              "MCHC                       -2.050912e-02\n",
              "Blood sodium               -1.669965e-02\n",
              "Chloride                   -1.515472e-02\n",
              "SP O2                      -1.184303e-02\n",
              "Systolic blood pressure    -1.138362e-02\n",
              "PCO2                       -1.120596e-02\n",
              "MCH                        -1.065523e-02\n",
              "Lymphocyte                 -9.513852e-03\n",
              "Anion gap                  -7.266851e-03\n",
              "Blood potassium            -4.016739e-03\n",
              "Basophils                  -3.107299e-03\n",
              "Lactic acid                -2.992217e-03\n",
              "PH                         -1.519847e-03\n",
              "BMI                        -1.489212e-03\n",
              "Neutrophils                -1.155944e-03\n",
              "RBC                        -8.298286e-04\n",
              "Platelets                  -7.422269e-04\n",
              "glucose                    -4.179051e-04\n",
              "Intercept                  -4.089643e-04\n",
              "Creatine kinase            -1.004589e-05\n",
              "NT-proBNP                   6.539536e-07\n",
              "Creatinine                  7.102560e-04\n",
              "Magnesium ion               7.987071e-04\n",
              "Bicarbonate                 9.367609e-04\n",
              "RDW                         2.884926e-03\n",
              "MCV                         3.177027e-03\n",
              "hematocrit                  5.457200e-03\n",
              "heart rate                  5.526417e-03\n",
              "Blood calcium               8.273622e-03\n",
              "Urea nitrogen               8.274314e-03\n",
              "INR                         8.872851e-03\n",
              "Diastolic blood pressure    1.538216e-02\n",
              "EF                          1.677365e-02\n",
              "Leucocyte                   2.271710e-02\n",
              "age                         5.318846e-02\n",
              "PT                          8.677527e-02\n",
              "dtype: float64"
            ]
          },
          "metadata": {},
          "execution_count": 15
        }
      ]
    },
    {
      "cell_type": "code",
      "source": [
        "logregl1 = sklearn.linear_model.LogisticRegressionCV(penalty = 'l1', solver = 'saga', max_iter = 10000).fit(X_train, y_train)\n",
        "print(f'Logistic Regression Training Score: {logregl1.score(X_train, y_train)}')\n",
        "print(f'Logistic Regression Testing Score: {logregl1.score(X_test, y_test)}')"
      ],
      "metadata": {
        "colab": {
          "base_uri": "https://localhost:8080/"
        },
        "outputId": "f8645c61-228a-4551-b2b7-73d346e2210d",
        "id": "7XiUVEWgclVh"
      },
      "execution_count": null,
      "outputs": [
        {
          "output_type": "stream",
          "name": "stdout",
          "text": [
            "Logistic Regression Training Score: 0.5844845908607864\n",
            "Logistic Regression Testing Score: 0.6313559322033898\n"
          ]
        }
      ]
    },
    {
      "cell_type": "code",
      "source": [
        "betas = pd.Series(logregl1.coef_[0], index = X_train.columns)\n",
        "betas = pd.concat([betas, pd.Series({'Intercept' : logregl1.intercept_[0]})])\n",
        "betas.sort_values()"
      ],
      "metadata": {
        "colab": {
          "base_uri": "https://localhost:8080/"
        },
        "outputId": "074509d9-f0c9-4265-c57d-e209388c7f7b",
        "id": "yXDGGeZjc-sK"
      },
      "execution_count": null,
      "outputs": [
        {
          "output_type": "execute_result",
          "data": {
            "text/plain": [
              "Systolic blood pressure    -3.421488e-03\n",
              "PCO2                       -1.273608e-03\n",
              "Diastolic blood pressure   -1.090364e-03\n",
              "glucose                    -9.610005e-04\n",
              "Lymphocyte                 -8.820824e-04\n",
              "BMI                        -8.670318e-04\n",
              "Platelets                  -5.648292e-04\n",
              "Blood sodium               -4.339210e-04\n",
              "heart rate                 -1.427934e-04\n",
              "SP O2                      -1.206152e-04\n",
              "Bicarbonate                -1.191815e-04\n",
              "MCV                        -1.175148e-04\n",
              "Chloride                   -9.683755e-05\n",
              "MCHC                       -7.541424e-05\n",
              "Respiratory rate           -7.270744e-05\n",
              "MCH                        -5.308070e-05\n",
              "Intercept                  -2.682026e-05\n",
              "Blood potassium             0.000000e+00\n",
              "PH                          0.000000e+00\n",
              "Magnesium ion               0.000000e+00\n",
              "Anion gap                   0.000000e+00\n",
              "RBC                         0.000000e+00\n",
              "Creatinine                  0.000000e+00\n",
              "Blood calcium               0.000000e+00\n",
              "RDW                         0.000000e+00\n",
              "Basophils                   0.000000e+00\n",
              "Lactic acid                 4.560710e-07\n",
              "NT-proBNP                   7.864895e-06\n",
              "hematocrit                  1.188693e-05\n",
              "Creatine kinase             1.671042e-05\n",
              "INR                         9.227967e-05\n",
              "Leucocyte                   3.119982e-04\n",
              "EF                          3.472622e-04\n",
              "Neutrophils                 5.192828e-04\n",
              "Urea nitrogen               2.380364e-03\n",
              "PT                          3.337862e-03\n",
              "age                         6.255753e-03\n",
              "dtype: float64"
            ]
          },
          "metadata": {},
          "execution_count": 17
        }
      ]
    },
    {
      "cell_type": "code",
      "source": [
        "logregl2 = sklearn.linear_model.LogisticRegressionCV(penalty = 'l2', solver = 'saga', max_iter = 10000).fit(X_train, y_train)\n",
        "print(f'Logistic Regression Training Score: {logregl1.score(X_train, y_train)}')\n",
        "print(f'Logistic Regression Testing Score: {logregl1.score(X_test, y_test)}')"
      ],
      "metadata": {
        "colab": {
          "base_uri": "https://localhost:8080/"
        },
        "outputId": "110babf1-58ab-4d28-d880-aca82067da8f",
        "id": "9hlaKyeodH-F"
      },
      "execution_count": null,
      "outputs": [
        {
          "output_type": "stream",
          "name": "stdout",
          "text": [
            "Logistic Regression Training Score: 0.5844845908607864\n",
            "Logistic Regression Testing Score: 0.6313559322033898\n"
          ]
        }
      ]
    },
    {
      "cell_type": "code",
      "source": [
        "betas = pd.Series(logregl2.coef_[0], index = X_train.columns)\n",
        "betas = pd.concat([betas, pd.Series({'Intercept' : logregl2.intercept_[0]})])\n",
        "betas.sort_values()"
      ],
      "metadata": {
        "colab": {
          "base_uri": "https://localhost:8080/"
        },
        "outputId": "0049e74c-2fa8-4bc8-a0ae-673e3e9be421",
        "id": "MYbiX-CedMD4"
      },
      "execution_count": null,
      "outputs": [
        {
          "output_type": "execute_result",
          "data": {
            "text/plain": [
              "Systolic blood pressure    -0.003051\n",
              "PCO2                       -0.001580\n",
              "Diastolic blood pressure   -0.001386\n",
              "Lymphocyte                 -0.001291\n",
              "BMI                        -0.001267\n",
              "glucose                    -0.000963\n",
              "Blood sodium               -0.000624\n",
              "Platelets                  -0.000571\n",
              "Bicarbonate                -0.000485\n",
              "Respiratory rate           -0.000311\n",
              "SP O2                      -0.000304\n",
              "MCHC                       -0.000300\n",
              "Chloride                   -0.000286\n",
              "MCH                        -0.000218\n",
              "MCV                        -0.000207\n",
              "heart rate                 -0.000179\n",
              "Basophils                  -0.000057\n",
              "Blood potassium            -0.000049\n",
              "Creatinine                 -0.000033\n",
              "PH                         -0.000025\n",
              "Intercept                  -0.000004\n",
              "RBC                         0.000004\n",
              "NT-proBNP                   0.000008\n",
              "Creatine kinase             0.000017\n",
              "Magnesium ion               0.000023\n",
              "Blood calcium               0.000037\n",
              "RDW                         0.000060\n",
              "Anion gap                   0.000090\n",
              "Lactic acid                 0.000090\n",
              "hematocrit                  0.000132\n",
              "INR                         0.000396\n",
              "Leucocyte                   0.000871\n",
              "EF                          0.000891\n",
              "Neutrophils                 0.001147\n",
              "Urea nitrogen               0.002686\n",
              "PT                          0.003607\n",
              "age                         0.006306\n",
              "dtype: float64"
            ]
          },
          "metadata": {},
          "execution_count": 19
        }
      ]
    },
    {
      "cell_type": "markdown",
      "source": [
        "---\n",
        "##**Second Iteration**\n",
        "---"
      ],
      "metadata": {
        "id": "5bhmUtDFeBgQ"
      }
    },
    {
      "cell_type": "code",
      "source": [
        "drop_data_cols = ['group', 'ID', 'outcome',  'gendera',  'hypertensive', 'Urine output', 'temperature','Magnesium ion','PH', 'glucose',\n",
        "        'CHD with no MI', 'diabetes', 'deficiencyanemias', 'Blood potassium', 'Anion gap','RBC', 'Blood calcium','Creatinine','RDW','Basophils', 'NT-proBNP', 'Creatine kinase', 'BMI', 'Platelets', 'Neutrophils',\n",
        "       'depression', 'Hyperlipemia', 'Renal failure', 'COPD']\n",
        "processed_data = data.drop(columns = drop_data_cols)"
      ],
      "metadata": {
        "id": "yby89qF7dXDI"
      },
      "execution_count": null,
      "outputs": []
    },
    {
      "cell_type": "code",
      "source": [
        "X_train, X_test, y_train, y_test = sklearn.model_selection.train_test_split(processed_data.drop('atrialfibrillation', axis = 1), processed_data.atrialfibrillation, test_size = 0.2, random_state = 1000, stratify = processed_data.atrialfibrillation)\n",
        "X_train.shape, y_train.shape"
      ],
      "metadata": {
        "colab": {
          "base_uri": "https://localhost:8080/"
        },
        "outputId": "0dee19e7-2707-48e1-b6e5-b70d70f4e74f",
        "id": "SzXpPWpud7bh"
      },
      "execution_count": null,
      "outputs": [
        {
          "output_type": "execute_result",
          "data": {
            "text/plain": [
              "((941, 21), (941,))"
            ]
          },
          "metadata": {},
          "execution_count": 21
        }
      ]
    },
    {
      "cell_type": "code",
      "source": [
        "logreg = sklearn.linear_model.LogisticRegressionCV(max_iter = 5000).fit(X_train, y_train)\n",
        "print(f'Logistic Regression Training Score: {logreg.score(X_train, y_train)}')\n",
        "print(f'Logistic Regression Testing Score: {logreg.score(X_test, y_test)}')"
      ],
      "metadata": {
        "colab": {
          "base_uri": "https://localhost:8080/"
        },
        "outputId": "c8db44ae-424a-4f44-c6c4-7d17c05cd948",
        "id": "SOcVTF0Qd_84"
      },
      "execution_count": null,
      "outputs": [
        {
          "output_type": "stream",
          "name": "stdout",
          "text": [
            "Logistic Regression Training Score: 0.7024442082890542\n",
            "Logistic Regression Testing Score: 0.7033898305084746\n"
          ]
        }
      ]
    },
    {
      "cell_type": "code",
      "source": [
        "betas = pd.Series(logreg.coef_[0], index = X_train.columns)\n",
        "betas = pd.concat([betas, pd.Series({'Intercept' : logreg.intercept_[0]})])\n",
        "betas.sort_values()"
      ],
      "metadata": {
        "colab": {
          "base_uri": "https://localhost:8080/"
        },
        "outputId": "86cf6dc4-0291-4657-8f25-12f2f5441ad8",
        "id": "H6OV3AZyd_84"
      },
      "execution_count": null,
      "outputs": [
        {
          "output_type": "execute_result",
          "data": {
            "text/plain": [
              "Intercept                  -2.492768\n",
              "Respiratory rate           -0.029327\n",
              "MCHC                       -0.023141\n",
              "MCH                        -0.012755\n",
              "Chloride                   -0.012414\n",
              "Systolic blood pressure    -0.012216\n",
              "Blood sodium               -0.012045\n",
              "PCO2                       -0.011816\n",
              "Lymphocyte                 -0.007643\n",
              "Lactic acid                -0.006632\n",
              "SP O2                      -0.003068\n",
              "Bicarbonate                 0.003301\n",
              "heart rate                  0.005996\n",
              "hematocrit                  0.006976\n",
              "MCV                         0.008040\n",
              "INR                         0.008306\n",
              "Urea nitrogen               0.008354\n",
              "Diastolic blood pressure    0.016029\n",
              "EF                          0.016917\n",
              "Leucocyte                   0.019985\n",
              "age                         0.053481\n",
              "PT                          0.088130\n",
              "dtype: float64"
            ]
          },
          "metadata": {},
          "execution_count": 23
        }
      ]
    },
    {
      "cell_type": "code",
      "source": [
        "logregl1 = sklearn.linear_model.LogisticRegressionCV(penalty = 'l1', solver = 'saga', max_iter = 10000).fit(X_train, y_train)\n",
        "print(f'Logistic Regression Training Score: {logregl1.score(X_train, y_train)}')\n",
        "print(f'Logistic Regression Testing Score: {logregl1.score(X_test, y_test)}')"
      ],
      "metadata": {
        "colab": {
          "base_uri": "https://localhost:8080/"
        },
        "outputId": "f50e7456-3cb2-4c7d-ffe4-cca12b017be8",
        "id": "6NevXBCRd_84"
      },
      "execution_count": null,
      "outputs": [
        {
          "output_type": "stream",
          "name": "stdout",
          "text": [
            "Logistic Regression Training Score: 0.7056323060573858\n",
            "Logistic Regression Testing Score: 0.690677966101695\n"
          ]
        }
      ]
    },
    {
      "cell_type": "code",
      "source": [
        "betas = pd.Series(logregl1.coef_[0], index = X_train.columns)\n",
        "betas = pd.concat([betas, pd.Series({'Intercept' : logregl1.intercept_[0]})])\n",
        "betas.sort_values()"
      ],
      "metadata": {
        "colab": {
          "base_uri": "https://localhost:8080/"
        },
        "outputId": "320f3c39-b4f6-46e8-9846-9c56c893b331",
        "id": "sNb11I5Zd_84"
      },
      "execution_count": null,
      "outputs": [
        {
          "output_type": "execute_result",
          "data": {
            "text/plain": [
              "Intercept                  -0.245965\n",
              "MCHC                       -0.069622\n",
              "Respiratory rate           -0.037826\n",
              "Blood sodium               -0.015301\n",
              "Chloride                   -0.014894\n",
              "PCO2                       -0.011851\n",
              "Systolic blood pressure    -0.011836\n",
              "Lymphocyte                 -0.006808\n",
              "SP O2                      -0.005129\n",
              "INR                         0.000000\n",
              "Lactic acid                 0.000000\n",
              "Bicarbonate                 0.000000\n",
              "MCH                         0.000000\n",
              "hematocrit                  0.002432\n",
              "MCV                         0.003514\n",
              "heart rate                  0.005810\n",
              "Urea nitrogen               0.007630\n",
              "Diastolic blood pressure    0.017339\n",
              "EF                          0.017860\n",
              "Leucocyte                   0.021578\n",
              "age                         0.056246\n",
              "PT                          0.104113\n",
              "dtype: float64"
            ]
          },
          "metadata": {},
          "execution_count": 25
        }
      ]
    },
    {
      "cell_type": "code",
      "source": [
        "logregl2 = sklearn.linear_model.LogisticRegressionCV(penalty = 'l2', solver = 'saga', max_iter = 10000).fit(X_train, y_train)\n",
        "print(f'Logistic Regression Training Score: {logregl1.score(X_train, y_train)}')\n",
        "print(f'Logistic Regression Testing Score: {logregl1.score(X_test, y_test)}')"
      ],
      "metadata": {
        "colab": {
          "base_uri": "https://localhost:8080/"
        },
        "outputId": "7c47e33a-f047-4753-da79-ff9be3b30669",
        "id": "XbLODVsAd_84"
      },
      "execution_count": null,
      "outputs": [
        {
          "output_type": "stream",
          "name": "stdout",
          "text": [
            "Logistic Regression Training Score: 0.7056323060573858\n",
            "Logistic Regression Testing Score: 0.690677966101695\n"
          ]
        }
      ]
    },
    {
      "cell_type": "code",
      "source": [
        "betas = pd.Series(logregl2.coef_[0], index = X_train.columns)\n",
        "betas = pd.concat([betas, pd.Series({'Intercept' : logregl2.intercept_[0]})])\n",
        "betas.sort_values()"
      ],
      "metadata": {
        "colab": {
          "base_uri": "https://localhost:8080/"
        },
        "outputId": "768e09b7-a182-4db8-fc8b-7e483655089f",
        "id": "urKW2_Dyd_84"
      },
      "execution_count": null,
      "outputs": [
        {
          "output_type": "execute_result",
          "data": {
            "text/plain": [
              "MCHC                       -0.074100\n",
              "Respiratory rate           -0.046143\n",
              "Lactic acid                -0.041393\n",
              "MCH                        -0.024863\n",
              "Chloride                   -0.016876\n",
              "PCO2                       -0.016089\n",
              "Blood sodium               -0.015593\n",
              "Systolic blood pressure    -0.012380\n",
              "SP O2                      -0.011761\n",
              "Lymphocyte                 -0.007443\n",
              "Intercept                  -0.004651\n",
              "INR                         0.002153\n",
              "Bicarbonate                 0.003792\n",
              "heart rate                  0.007060\n",
              "hematocrit                  0.007274\n",
              "Urea nitrogen               0.008217\n",
              "MCV                         0.017186\n",
              "Diastolic blood pressure    0.019041\n",
              "EF                          0.019522\n",
              "Leucocyte                   0.027811\n",
              "age                         0.057908\n",
              "PT                          0.106370\n",
              "dtype: float64"
            ]
          },
          "metadata": {},
          "execution_count": 27
        }
      ]
    },
    {
      "cell_type": "markdown",
      "source": [
        "---\n",
        "##**Third Iteration**\n",
        "---"
      ],
      "metadata": {
        "id": "-kRO8iuBfdOy"
      }
    },
    {
      "cell_type": "code",
      "source": [
        "drop_data_cols = ['group', 'ID', 'outcome',  'gendera',  'hypertensive', 'Urine output', 'temperature','Magnesium ion','PH', 'glucose', 'INR', 'Lactic acid', 'Bicarbonate', 'MCH',\n",
        "        'CHD with no MI', 'diabetes', 'deficiencyanemias', 'Blood potassium', 'Anion gap','RBC', 'Blood calcium','Creatinine','RDW','Basophils', 'NT-proBNP', 'Creatine kinase', 'BMI', 'Platelets', 'Neutrophils',\n",
        "       'depression', 'Hyperlipemia', 'Renal failure', 'COPD']\n",
        "processed_data = data.drop(columns = drop_data_cols)"
      ],
      "metadata": {
        "id": "5dOSIBRRfbmd"
      },
      "execution_count": null,
      "outputs": []
    },
    {
      "cell_type": "code",
      "source": [
        "X_train, X_test, y_train, y_test = sklearn.model_selection.train_test_split(processed_data.drop('atrialfibrillation', axis = 1), processed_data.atrialfibrillation, test_size = 0.2, random_state = 1000, stratify = processed_data.atrialfibrillation)\n",
        "X_train.shape, y_train.shape"
      ],
      "metadata": {
        "colab": {
          "base_uri": "https://localhost:8080/"
        },
        "outputId": "fff12c83-d26d-47d3-ce37-6e436b7e51e2",
        "id": "WvFl2395fbmd"
      },
      "execution_count": null,
      "outputs": [
        {
          "output_type": "execute_result",
          "data": {
            "text/plain": [
              "((941, 17), (941,))"
            ]
          },
          "metadata": {},
          "execution_count": 29
        }
      ]
    },
    {
      "cell_type": "code",
      "source": [
        "logreg = sklearn.linear_model.LogisticRegressionCV(max_iter = 5000).fit(X_train, y_train)\n",
        "print(f'Logistic Regression Training Score: {logreg.score(X_train, y_train)}')\n",
        "print(f'Logistic Regression Testing Score: {logreg.score(X_test, y_test)}')"
      ],
      "metadata": {
        "colab": {
          "base_uri": "https://localhost:8080/"
        },
        "outputId": "55fa2e46-27c1-4868-f9bb-8b2fbc3a41d0",
        "id": "Bh6Z2qMzfbmd"
      },
      "execution_count": null,
      "outputs": [
        {
          "output_type": "stream",
          "name": "stdout",
          "text": [
            "Logistic Regression Training Score: 0.7013815090329437\n",
            "Logistic Regression Testing Score: 0.711864406779661\n"
          ]
        }
      ]
    },
    {
      "cell_type": "code",
      "source": [
        "betas = pd.Series(logreg.coef_[0], index = X_train.columns)\n",
        "betas = pd.concat([betas, pd.Series({'Intercept' : logreg.intercept_[0]})])\n",
        "betas.sort_values()"
      ],
      "metadata": {
        "colab": {
          "base_uri": "https://localhost:8080/"
        },
        "outputId": "d8c06724-cdd7-411c-b09c-420088ad66b1",
        "id": "Cs9GhcLpfbmd"
      },
      "execution_count": null,
      "outputs": [
        {
          "output_type": "execute_result",
          "data": {
            "text/plain": [
              "Intercept                  -1.905877\n",
              "MCHC                       -0.111452\n",
              "Respiratory rate           -0.048159\n",
              "Chloride                   -0.023770\n",
              "PCO2                       -0.015836\n",
              "Systolic blood pressure    -0.012159\n",
              "Lymphocyte                 -0.007715\n",
              "Blood sodium               -0.002959\n",
              "SP O2                       0.003866\n",
              "heart rate                  0.007456\n",
              "hematocrit                  0.008019\n",
              "Urea nitrogen               0.008043\n",
              "MCV                         0.012910\n",
              "Diastolic blood pressure    0.019817\n",
              "EF                          0.020309\n",
              "Leucocyte                   0.028328\n",
              "age                         0.058781\n",
              "PT                          0.109860\n",
              "dtype: float64"
            ]
          },
          "metadata": {},
          "execution_count": 31
        }
      ]
    },
    {
      "cell_type": "code",
      "source": [
        "logregl1 = sklearn.linear_model.LogisticRegressionCV(penalty = 'l1', solver = 'saga', max_iter = 10000).fit(X_train, y_train)\n",
        "print(f'Logistic Regression Training Score: {logregl1.score(X_train, y_train)}')\n",
        "print(f'Logistic Regression Testing Score: {logregl1.score(X_test, y_test)}')"
      ],
      "metadata": {
        "colab": {
          "base_uri": "https://localhost:8080/"
        },
        "outputId": "d5315501-4552-4c3b-b930-d67307b8259e",
        "id": "5B5BWkPAfbmd"
      },
      "execution_count": null,
      "outputs": [
        {
          "output_type": "stream",
          "name": "stdout",
          "text": [
            "Logistic Regression Training Score: 0.7056323060573858\n",
            "Logistic Regression Testing Score: 0.690677966101695\n"
          ]
        }
      ]
    },
    {
      "cell_type": "code",
      "source": [
        "betas = pd.Series(logregl1.coef_[0], index = X_train.columns)\n",
        "betas = pd.concat([betas, pd.Series({'Intercept' : logregl1.intercept_[0]})])\n",
        "betas.sort_values()"
      ],
      "metadata": {
        "colab": {
          "base_uri": "https://localhost:8080/"
        },
        "outputId": "108ab441-d973-43e8-f88d-9ea4572fa673",
        "id": "-4j7tZudfbme"
      },
      "execution_count": null,
      "outputs": [
        {
          "output_type": "execute_result",
          "data": {
            "text/plain": [
              "Intercept                  -0.192297\n",
              "MCHC                       -0.069915\n",
              "Respiratory rate           -0.037859\n",
              "Blood sodium               -0.015434\n",
              "Chloride                   -0.014854\n",
              "PCO2                       -0.011862\n",
              "Systolic blood pressure    -0.011836\n",
              "Lymphocyte                 -0.006809\n",
              "SP O2                      -0.005392\n",
              "hematocrit                  0.002407\n",
              "MCV                         0.003503\n",
              "heart rate                  0.005801\n",
              "Urea nitrogen               0.007626\n",
              "Diastolic blood pressure    0.017334\n",
              "EF                          0.017860\n",
              "Leucocyte                   0.021577\n",
              "age                         0.056243\n",
              "PT                          0.104100\n",
              "dtype: float64"
            ]
          },
          "metadata": {},
          "execution_count": 33
        }
      ]
    },
    {
      "cell_type": "code",
      "source": [
        "logregl2 = sklearn.linear_model.LogisticRegressionCV(penalty = 'l2', solver = 'saga', max_iter = 10000).fit(X_train, y_train)\n",
        "print(f'Logistic Regression Training Score: {logregl1.score(X_train, y_train)}')\n",
        "print(f'Logistic Regression Testing Score: {logregl1.score(X_test, y_test)}')"
      ],
      "metadata": {
        "colab": {
          "base_uri": "https://localhost:8080/"
        },
        "outputId": "5d4d7342-0c2f-430a-a580-26a82245e480",
        "id": "uHsICQNTfbme"
      },
      "execution_count": null,
      "outputs": [
        {
          "output_type": "stream",
          "name": "stdout",
          "text": [
            "Logistic Regression Training Score: 0.7056323060573858\n",
            "Logistic Regression Testing Score: 0.690677966101695\n"
          ]
        }
      ]
    },
    {
      "cell_type": "code",
      "source": [
        "betas = pd.Series(logregl2.coef_[0], index = X_train.columns)\n",
        "betas = pd.concat([betas, pd.Series({'Intercept' : logregl2.intercept_[0]})])\n",
        "betas.sort_values()"
      ],
      "metadata": {
        "colab": {
          "base_uri": "https://localhost:8080/"
        },
        "outputId": "0b21d989-791b-4dd3-a419-4ca2595c6a49",
        "id": "utn3WhUJfbme"
      },
      "execution_count": null,
      "outputs": [
        {
          "output_type": "execute_result",
          "data": {
            "text/plain": [
              "MCHC                       -0.085592\n",
              "Respiratory rate           -0.046372\n",
              "Chloride                   -0.019765\n",
              "PCO2                       -0.014461\n",
              "Systolic blood pressure    -0.012230\n",
              "Blood sodium               -0.011209\n",
              "SP O2                      -0.011083\n",
              "Lymphocyte                 -0.007693\n",
              "Intercept                  -0.003952\n",
              "hematocrit                  0.006671\n",
              "heart rate                  0.006918\n",
              "Urea nitrogen               0.008046\n",
              "MCV                         0.009236\n",
              "Diastolic blood pressure    0.018962\n",
              "EF                          0.019501\n",
              "Leucocyte                   0.026309\n",
              "age                         0.057786\n",
              "PT                          0.106229\n",
              "dtype: float64"
            ]
          },
          "metadata": {},
          "execution_count": 35
        }
      ]
    },
    {
      "cell_type": "markdown",
      "source": [
        "---\n",
        "##**Fourth Iteration**\n",
        "---"
      ],
      "metadata": {
        "id": "CPgX-PI8ih-M"
      }
    },
    {
      "cell_type": "code",
      "source": [
        "drop_data_cols = ['group', 'ID', 'outcome',  'gendera',  'hypertensive', 'Urine output', 'temperature','Magnesium ion','PH', 'glucose', 'INR', 'Lactic acid', 'Bicarbonate', 'MCH', 'hematocrit', 'heart rate', 'Urea nitrogen', 'SP O2',\n",
        "        'CHD with no MI', 'diabetes', 'deficiencyanemias', 'Blood potassium', 'Anion gap','RBC', 'Blood calcium','Creatinine','RDW','Basophils', 'NT-proBNP', 'Creatine kinase', 'BMI', 'Platelets', 'Neutrophils',\n",
        "       'depression', 'Hyperlipemia', 'Renal failure', 'COPD', 'Blood sodium']\n",
        "processed_data = data.drop(columns = drop_data_cols)"
      ],
      "metadata": {
        "id": "dK83c3lLih-N"
      },
      "execution_count": null,
      "outputs": []
    },
    {
      "cell_type": "code",
      "source": [
        "X_train, X_test, y_train, y_test = sklearn.model_selection.train_test_split(processed_data.drop('atrialfibrillation', axis = 1), processed_data.atrialfibrillation, test_size = 0.2, random_state = 1000, stratify = processed_data.atrialfibrillation)\n",
        "X_train.shape, y_train.shape"
      ],
      "metadata": {
        "colab": {
          "base_uri": "https://localhost:8080/"
        },
        "outputId": "a9d07d2b-7c28-470c-98e1-caa79b572950",
        "id": "YvRPGLwfih-N"
      },
      "execution_count": null,
      "outputs": [
        {
          "output_type": "execute_result",
          "data": {
            "text/plain": [
              "((941, 12), (941,))"
            ]
          },
          "metadata": {},
          "execution_count": 37
        }
      ]
    },
    {
      "cell_type": "code",
      "source": [
        "logreg = sklearn.linear_model.LogisticRegressionCV(max_iter = 5000).fit(X_train, y_train)\n",
        "print(f'Logistic Regression Training Score: {logreg.score(X_train, y_train)}')\n",
        "print(f'Logistic Regression Testing Score: {logreg.score(X_test, y_test)}')"
      ],
      "metadata": {
        "colab": {
          "base_uri": "https://localhost:8080/"
        },
        "outputId": "715a0036-e683-4e66-ace3-33865868ea65",
        "id": "tN3ds6S7ih-N"
      },
      "execution_count": null,
      "outputs": [
        {
          "output_type": "stream",
          "name": "stdout",
          "text": [
            "Logistic Regression Training Score: 0.7098831030818279\n",
            "Logistic Regression Testing Score: 0.711864406779661\n"
          ]
        }
      ]
    },
    {
      "cell_type": "code",
      "source": [
        "betas = pd.Series(logreg.coef_[0], index = X_train.columns)\n",
        "betas = pd.concat([betas, pd.Series({'Intercept' : logreg.intercept_[0]})])\n",
        "betas.sort_values()"
      ],
      "metadata": {
        "colab": {
          "base_uri": "https://localhost:8080/"
        },
        "outputId": "3cd51545-494a-445f-c657-cc86c8762057",
        "id": "9zV1XzYCih-N"
      },
      "execution_count": null,
      "outputs": [
        {
          "output_type": "execute_result",
          "data": {
            "text/plain": [
              "Intercept                  -2.380937\n",
              "MCHC                       -0.078619\n",
              "Respiratory rate           -0.036866\n",
              "Chloride                   -0.020048\n",
              "PCO2                       -0.014018\n",
              "Systolic blood pressure    -0.013666\n",
              "Lymphocyte                 -0.010943\n",
              "MCV                         0.013230\n",
              "EF                          0.017756\n",
              "Diastolic blood pressure    0.022735\n",
              "Leucocyte                   0.032777\n",
              "age                         0.058362\n",
              "PT                          0.107406\n",
              "dtype: float64"
            ]
          },
          "metadata": {},
          "execution_count": 39
        }
      ]
    },
    {
      "cell_type": "code",
      "source": [
        "logregl1 = sklearn.linear_model.LogisticRegressionCV(penalty = 'l1', solver = 'saga', max_iter = 10000).fit(X_train, y_train)\n",
        "print(f'Logistic Regression Training Score: {logregl1.score(X_train, y_train)}')\n",
        "print(f'Logistic Regression Testing Score: {logregl1.score(X_test, y_test)}')"
      ],
      "metadata": {
        "colab": {
          "base_uri": "https://localhost:8080/"
        },
        "outputId": "c1e6f574-0da8-4b25-83db-9bc0561431ac",
        "id": "ThOPlImOih-N"
      },
      "execution_count": null,
      "outputs": [
        {
          "output_type": "stream",
          "name": "stdout",
          "text": [
            "Logistic Regression Training Score: 0.7151965993623804\n",
            "Logistic Regression Testing Score: 0.711864406779661\n"
          ]
        }
      ]
    },
    {
      "cell_type": "code",
      "source": [
        "betas = pd.Series(logregl1.coef_[0], index = X_train.columns)\n",
        "betas = pd.concat([betas, pd.Series({'Intercept' : logregl1.intercept_[0]})])\n",
        "betas.sort_values()"
      ],
      "metadata": {
        "colab": {
          "base_uri": "https://localhost:8080/"
        },
        "outputId": "68c621f1-2172-41e7-c94d-5339dccd745d",
        "id": "dssxhLmcih-N"
      },
      "execution_count": null,
      "outputs": [
        {
          "output_type": "execute_result",
          "data": {
            "text/plain": [
              "Intercept                  -0.332662\n",
              "MCHC                       -0.131917\n",
              "Respiratory rate           -0.041263\n",
              "Chloride                   -0.024270\n",
              "PCO2                       -0.017155\n",
              "Systolic blood pressure    -0.013676\n",
              "Lymphocyte                 -0.010999\n",
              "MCV                         0.015608\n",
              "EF                          0.018759\n",
              "Diastolic blood pressure    0.022866\n",
              "Leucocyte                   0.034614\n",
              "age                         0.058863\n",
              "PT                          0.109941\n",
              "dtype: float64"
            ]
          },
          "metadata": {},
          "execution_count": 41
        }
      ]
    },
    {
      "cell_type": "code",
      "source": [
        "logregl2 = sklearn.linear_model.LogisticRegressionCV(penalty = 'l2', solver = 'saga', max_iter = 10000).fit(X_train, y_train)\n",
        "print(f'Logistic Regression Training Score: {logregl1.score(X_train, y_train)}')\n",
        "print(f'Logistic Regression Testing Score: {logregl1.score(X_test, y_test)}')"
      ],
      "metadata": {
        "colab": {
          "base_uri": "https://localhost:8080/"
        },
        "outputId": "b2128daf-eb7a-4045-da2f-d2aa03d1a2eb",
        "id": "Zd3OZTCwih-N"
      },
      "execution_count": null,
      "outputs": [
        {
          "output_type": "stream",
          "name": "stdout",
          "text": [
            "Logistic Regression Training Score: 0.7151965993623804\n",
            "Logistic Regression Testing Score: 0.711864406779661\n"
          ]
        }
      ]
    },
    {
      "cell_type": "code",
      "source": [
        "betas = pd.Series(logregl2.coef_[0], index = X_train.columns)\n",
        "betas = pd.concat([betas, pd.Series({'Intercept' : logregl2.intercept_[0]})])\n",
        "betas.sort_values()"
      ],
      "metadata": {
        "colab": {
          "base_uri": "https://localhost:8080/"
        },
        "outputId": "25844172-54c6-4a17-eb69-fc7904279e8c",
        "id": "E6UBNWX8ih-N"
      },
      "execution_count": null,
      "outputs": [
        {
          "output_type": "execute_result",
          "data": {
            "text/plain": [
              "MCHC                       -0.136396\n",
              "Respiratory rate           -0.041903\n",
              "Chloride                   -0.025333\n",
              "PCO2                       -0.017631\n",
              "Systolic blood pressure    -0.013724\n",
              "Lymphocyte                 -0.011045\n",
              "Intercept                  -0.007256\n",
              "MCV                         0.015473\n",
              "EF                          0.018828\n",
              "Diastolic blood pressure    0.022728\n",
              "Leucocyte                   0.034642\n",
              "age                         0.058759\n",
              "PT                          0.109721\n",
              "dtype: float64"
            ]
          },
          "metadata": {},
          "execution_count": 43
        }
      ]
    },
    {
      "cell_type": "code",
      "source": [
        "import sklearn.ensemble\n",
        "\n",
        "y_train.replace({1:-1}, inplace = True)\n",
        "y_train.replace({0:1}, inplace = True)\n",
        "y_train\n"
      ],
      "metadata": {
        "colab": {
          "base_uri": "https://localhost:8080/"
        },
        "id": "D8B8PzVP-iQi",
        "outputId": "a987e220-189e-41ee-de23-211c45153c85"
      },
      "execution_count": null,
      "outputs": [
        {
          "output_type": "execute_result",
          "data": {
            "text/plain": [
              "107    1.0\n",
              "887    1.0\n",
              "588    1.0\n",
              "188    1.0\n",
              "585    1.0\n",
              "      ... \n",
              "986   -1.0\n",
              "592    1.0\n",
              "496   -1.0\n",
              "678    1.0\n",
              "122    1.0\n",
              "Name: atrialfibrillation, Length: 941, dtype: float64"
            ]
          },
          "metadata": {},
          "execution_count": 44
        }
      ]
    },
    {
      "cell_type": "code",
      "source": [
        "isolation_forest = sklearn.ensemble.IsolationForest(contamination = 0.15).fit(X_train)\n",
        "y_pred = pd.Series(isolation_forest.predict(X_train))\n"
      ],
      "metadata": {
        "colab": {
          "base_uri": "https://localhost:8080/"
        },
        "id": "q3XWg3F5Ie4h",
        "outputId": "5ae1d654-e061-4113-8753-36d0a2190773"
      },
      "execution_count": null,
      "outputs": [
        {
          "output_type": "stream",
          "name": "stderr",
          "text": [
            "/usr/local/lib/python3.10/dist-packages/sklearn/base.py:439: UserWarning: X does not have valid feature names, but IsolationForest was fitted with feature names\n",
            "  warnings.warn(\n"
          ]
        }
      ]
    },
    {
      "cell_type": "code",
      "source": [
        "# print((y_train.reset_index()), (y_pred.reindex()))\n",
        "a = y_pred\n",
        "b = y_train.reset_index()\n",
        "print(b)\n",
        "c = (a == b['atrialfibrillation']).astype(int).sum()\n",
        "print(c/len(b   ))\n",
        "\n",
        "# print(f'Isolated Forest Training Score: {isolation_forest.predict(X_train)}')"
      ],
      "metadata": {
        "id": "Mxv2PItzE-Sf",
        "colab": {
          "base_uri": "https://localhost:8080/"
        },
        "outputId": "f76733a9-cef3-46a7-f31a-a9efacd803f8"
      },
      "execution_count": null,
      "outputs": [
        {
          "output_type": "stream",
          "name": "stdout",
          "text": [
            "     index  atrialfibrillation\n",
            "0      107                 1.0\n",
            "1      887                 1.0\n",
            "2      588                 1.0\n",
            "3      188                 1.0\n",
            "4      585                 1.0\n",
            "..     ...                 ...\n",
            "936    986                -1.0\n",
            "937    592                 1.0\n",
            "938    496                -1.0\n",
            "939    678                 1.0\n",
            "940    122                 1.0\n",
            "\n",
            "[941 rows x 2 columns]\n",
            "0.5281615302869288\n"
          ]
        }
      ]
    },
    {
      "cell_type": "code",
      "source": [],
      "metadata": {
        "id": "cCQUA-27-8tD"
      },
      "execution_count": null,
      "outputs": []
    }
  ]
}